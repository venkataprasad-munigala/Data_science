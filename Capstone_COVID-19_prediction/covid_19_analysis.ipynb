{
 "cells": [
  {
   "cell_type": "markdown",
   "metadata": {},
   "source": [
    "# Covid-19 Prediction based on symptoms\n",
    "\n",
    "## Introduction\n",
    "A speedy and accurate diagnosis of COVID-19 is made possible by effective SARS-CoV-2 screening, which can also lessen the burden on healthcare systems. There have been built prediction models that assess the likelihood of infection by combining a number of parameters. These are meant to help medical professionals all over the world treat patients, especially in light of the scarcity of healthcare resources. The current dataset has been downloaded from ‘ABC’ government website and contains around 2,78,848 individuals who have gone through the RT-PCR test. Data set contains 11 columns, including 8 features suspected to play an important role in the prediction of COVID19 outcome. Outcome variable is covid result test positive or negative. We have data from 11th March 2020 till 30th April 2020. Please consider 11th March till 15th April as a training and validation set. From 16th April till 30th April as a test set. Please further divide training and validation set at a ratio of 4:1.  \n",
    "\n",
    "## Aim:\n",
    "- Perform all appropriate feature engineering tasks.\n",
    "- Perform important data visualization techniques to find the pattern in data.\n",
    "- Report characteristics of important features, such as total number and percentage of each category in a table format after performing all relevant tasks.\n",
    "- Perform multiple machine learning models relevant to your hypothesis, justify your model.\n",
    "- Perform important cost functions to justify which model is better."
   ]
  },
  {
   "cell_type": "code",
   "execution_count": 1,
   "metadata": {},
   "outputs": [],
   "source": [
    "import numpy as np\n",
    "import pandas as pd\n",
    "import matplotlib.pyplot as plt\n",
    "import seaborn as sns\n",
    "import warnings\n",
    "warnings.simplefilter(\"ignore\")"
   ]
  },
  {
   "cell_type": "markdown",
   "metadata": {},
   "source": [
    "### EDA"
   ]
  },
  {
   "cell_type": "code",
   "execution_count": 2,
   "metadata": {},
   "outputs": [],
   "source": [
    "df_raw = pd.read_csv('./corona_tested_006.csv')\n",
    "df = df_raw.copy()"
   ]
  },
  {
   "cell_type": "code",
   "execution_count": 3,
   "metadata": {},
   "outputs": [
    {
     "data": {
      "text/plain": [
       "(278848, 11)"
      ]
     },
     "execution_count": 3,
     "metadata": {},
     "output_type": "execute_result"
    }
   ],
   "source": [
    "df.shape"
   ]
  },
  {
   "cell_type": "code",
   "execution_count": 4,
   "metadata": {},
   "outputs": [
    {
     "data": {
      "text/html": [
       "<div>\n",
       "<style scoped>\n",
       "    .dataframe tbody tr th:only-of-type {\n",
       "        vertical-align: middle;\n",
       "    }\n",
       "\n",
       "    .dataframe tbody tr th {\n",
       "        vertical-align: top;\n",
       "    }\n",
       "\n",
       "    .dataframe thead th {\n",
       "        text-align: right;\n",
       "    }\n",
       "</style>\n",
       "<table border=\"1\" class=\"dataframe\">\n",
       "  <thead>\n",
       "    <tr style=\"text-align: right;\">\n",
       "      <th></th>\n",
       "      <th>Ind_ID</th>\n",
       "      <th>Test_date</th>\n",
       "      <th>Cough_symptoms</th>\n",
       "      <th>Fever</th>\n",
       "      <th>Sore_throat</th>\n",
       "      <th>Shortness_of_breath</th>\n",
       "      <th>Headache</th>\n",
       "      <th>Corona</th>\n",
       "      <th>Age_60_above</th>\n",
       "      <th>Sex</th>\n",
       "      <th>Known_contact</th>\n",
       "    </tr>\n",
       "  </thead>\n",
       "  <tbody>\n",
       "    <tr>\n",
       "      <th>0</th>\n",
       "      <td>1</td>\n",
       "      <td>11-03-2020</td>\n",
       "      <td>True</td>\n",
       "      <td>False</td>\n",
       "      <td>True</td>\n",
       "      <td>False</td>\n",
       "      <td>False</td>\n",
       "      <td>negative</td>\n",
       "      <td>NaN</td>\n",
       "      <td>NaN</td>\n",
       "      <td>Abroad</td>\n",
       "    </tr>\n",
       "    <tr>\n",
       "      <th>1</th>\n",
       "      <td>2</td>\n",
       "      <td>11-03-2020</td>\n",
       "      <td>False</td>\n",
       "      <td>True</td>\n",
       "      <td>False</td>\n",
       "      <td>False</td>\n",
       "      <td>False</td>\n",
       "      <td>positive</td>\n",
       "      <td>NaN</td>\n",
       "      <td>NaN</td>\n",
       "      <td>Abroad</td>\n",
       "    </tr>\n",
       "    <tr>\n",
       "      <th>2</th>\n",
       "      <td>3</td>\n",
       "      <td>11-03-2020</td>\n",
       "      <td>False</td>\n",
       "      <td>True</td>\n",
       "      <td>False</td>\n",
       "      <td>False</td>\n",
       "      <td>False</td>\n",
       "      <td>positive</td>\n",
       "      <td>NaN</td>\n",
       "      <td>NaN</td>\n",
       "      <td>Abroad</td>\n",
       "    </tr>\n",
       "    <tr>\n",
       "      <th>3</th>\n",
       "      <td>4</td>\n",
       "      <td>11-03-2020</td>\n",
       "      <td>True</td>\n",
       "      <td>False</td>\n",
       "      <td>False</td>\n",
       "      <td>False</td>\n",
       "      <td>False</td>\n",
       "      <td>negative</td>\n",
       "      <td>NaN</td>\n",
       "      <td>NaN</td>\n",
       "      <td>Abroad</td>\n",
       "    </tr>\n",
       "    <tr>\n",
       "      <th>4</th>\n",
       "      <td>5</td>\n",
       "      <td>11-03-2020</td>\n",
       "      <td>True</td>\n",
       "      <td>False</td>\n",
       "      <td>False</td>\n",
       "      <td>False</td>\n",
       "      <td>False</td>\n",
       "      <td>negative</td>\n",
       "      <td>NaN</td>\n",
       "      <td>NaN</td>\n",
       "      <td>Contact with confirmed</td>\n",
       "    </tr>\n",
       "  </tbody>\n",
       "</table>\n",
       "</div>"
      ],
      "text/plain": [
       "   Ind_ID   Test_date Cough_symptoms  Fever Sore_throat Shortness_of_breath  \\\n",
       "0       1  11-03-2020           True  False        True               False   \n",
       "1       2  11-03-2020          False   True       False               False   \n",
       "2       3  11-03-2020          False   True       False               False   \n",
       "3       4  11-03-2020           True  False       False               False   \n",
       "4       5  11-03-2020           True  False       False               False   \n",
       "\n",
       "  Headache    Corona Age_60_above  Sex           Known_contact  \n",
       "0    False  negative          NaN  NaN                  Abroad  \n",
       "1    False  positive          NaN  NaN                  Abroad  \n",
       "2    False  positive          NaN  NaN                  Abroad  \n",
       "3    False  negative          NaN  NaN                  Abroad  \n",
       "4    False  negative          NaN  NaN  Contact with confirmed  "
      ]
     },
     "execution_count": 4,
     "metadata": {},
     "output_type": "execute_result"
    }
   ],
   "source": [
    "df.head()"
   ]
  },
  {
   "cell_type": "code",
   "execution_count": 5,
   "metadata": {},
   "outputs": [
    {
     "data": {
      "text/html": [
       "<div>\n",
       "<style scoped>\n",
       "    .dataframe tbody tr th:only-of-type {\n",
       "        vertical-align: middle;\n",
       "    }\n",
       "\n",
       "    .dataframe tbody tr th {\n",
       "        vertical-align: top;\n",
       "    }\n",
       "\n",
       "    .dataframe thead th {\n",
       "        text-align: right;\n",
       "    }\n",
       "</style>\n",
       "<table border=\"1\" class=\"dataframe\">\n",
       "  <thead>\n",
       "    <tr style=\"text-align: right;\">\n",
       "      <th></th>\n",
       "      <th>Ind_ID</th>\n",
       "      <th>Test_date</th>\n",
       "      <th>Cough_symptoms</th>\n",
       "      <th>Fever</th>\n",
       "      <th>Sore_throat</th>\n",
       "      <th>Shortness_of_breath</th>\n",
       "      <th>Headache</th>\n",
       "      <th>Corona</th>\n",
       "      <th>Age_60_above</th>\n",
       "      <th>Sex</th>\n",
       "      <th>Known_contact</th>\n",
       "    </tr>\n",
       "  </thead>\n",
       "  <tbody>\n",
       "    <tr>\n",
       "      <th>count</th>\n",
       "      <td>278848.000000</td>\n",
       "      <td>278848</td>\n",
       "      <td>278596</td>\n",
       "      <td>278596</td>\n",
       "      <td>278847</td>\n",
       "      <td>278847</td>\n",
       "      <td>278847</td>\n",
       "      <td>278848</td>\n",
       "      <td>151528</td>\n",
       "      <td>259285</td>\n",
       "      <td>278848</td>\n",
       "    </tr>\n",
       "    <tr>\n",
       "      <th>unique</th>\n",
       "      <td>NaN</td>\n",
       "      <td>51</td>\n",
       "      <td>2</td>\n",
       "      <td>2</td>\n",
       "      <td>2</td>\n",
       "      <td>2</td>\n",
       "      <td>2</td>\n",
       "      <td>3</td>\n",
       "      <td>2</td>\n",
       "      <td>2</td>\n",
       "      <td>3</td>\n",
       "    </tr>\n",
       "    <tr>\n",
       "      <th>top</th>\n",
       "      <td>NaN</td>\n",
       "      <td>20-04-2020</td>\n",
       "      <td>False</td>\n",
       "      <td>False</td>\n",
       "      <td>False</td>\n",
       "      <td>False</td>\n",
       "      <td>False</td>\n",
       "      <td>negative</td>\n",
       "      <td>No</td>\n",
       "      <td>female</td>\n",
       "      <td>Other</td>\n",
       "    </tr>\n",
       "    <tr>\n",
       "      <th>freq</th>\n",
       "      <td>NaN</td>\n",
       "      <td>10921</td>\n",
       "      <td>236368</td>\n",
       "      <td>256844</td>\n",
       "      <td>276921</td>\n",
       "      <td>277270</td>\n",
       "      <td>276433</td>\n",
       "      <td>260227</td>\n",
       "      <td>125703</td>\n",
       "      <td>130158</td>\n",
       "      <td>242741</td>\n",
       "    </tr>\n",
       "    <tr>\n",
       "      <th>mean</th>\n",
       "      <td>139424.500000</td>\n",
       "      <td>NaN</td>\n",
       "      <td>NaN</td>\n",
       "      <td>NaN</td>\n",
       "      <td>NaN</td>\n",
       "      <td>NaN</td>\n",
       "      <td>NaN</td>\n",
       "      <td>NaN</td>\n",
       "      <td>NaN</td>\n",
       "      <td>NaN</td>\n",
       "      <td>NaN</td>\n",
       "    </tr>\n",
       "    <tr>\n",
       "      <th>std</th>\n",
       "      <td>80496.628269</td>\n",
       "      <td>NaN</td>\n",
       "      <td>NaN</td>\n",
       "      <td>NaN</td>\n",
       "      <td>NaN</td>\n",
       "      <td>NaN</td>\n",
       "      <td>NaN</td>\n",
       "      <td>NaN</td>\n",
       "      <td>NaN</td>\n",
       "      <td>NaN</td>\n",
       "      <td>NaN</td>\n",
       "    </tr>\n",
       "    <tr>\n",
       "      <th>min</th>\n",
       "      <td>1.000000</td>\n",
       "      <td>NaN</td>\n",
       "      <td>NaN</td>\n",
       "      <td>NaN</td>\n",
       "      <td>NaN</td>\n",
       "      <td>NaN</td>\n",
       "      <td>NaN</td>\n",
       "      <td>NaN</td>\n",
       "      <td>NaN</td>\n",
       "      <td>NaN</td>\n",
       "      <td>NaN</td>\n",
       "    </tr>\n",
       "    <tr>\n",
       "      <th>25%</th>\n",
       "      <td>69712.750000</td>\n",
       "      <td>NaN</td>\n",
       "      <td>NaN</td>\n",
       "      <td>NaN</td>\n",
       "      <td>NaN</td>\n",
       "      <td>NaN</td>\n",
       "      <td>NaN</td>\n",
       "      <td>NaN</td>\n",
       "      <td>NaN</td>\n",
       "      <td>NaN</td>\n",
       "      <td>NaN</td>\n",
       "    </tr>\n",
       "    <tr>\n",
       "      <th>50%</th>\n",
       "      <td>139424.500000</td>\n",
       "      <td>NaN</td>\n",
       "      <td>NaN</td>\n",
       "      <td>NaN</td>\n",
       "      <td>NaN</td>\n",
       "      <td>NaN</td>\n",
       "      <td>NaN</td>\n",
       "      <td>NaN</td>\n",
       "      <td>NaN</td>\n",
       "      <td>NaN</td>\n",
       "      <td>NaN</td>\n",
       "    </tr>\n",
       "    <tr>\n",
       "      <th>75%</th>\n",
       "      <td>209136.250000</td>\n",
       "      <td>NaN</td>\n",
       "      <td>NaN</td>\n",
       "      <td>NaN</td>\n",
       "      <td>NaN</td>\n",
       "      <td>NaN</td>\n",
       "      <td>NaN</td>\n",
       "      <td>NaN</td>\n",
       "      <td>NaN</td>\n",
       "      <td>NaN</td>\n",
       "      <td>NaN</td>\n",
       "    </tr>\n",
       "    <tr>\n",
       "      <th>max</th>\n",
       "      <td>278848.000000</td>\n",
       "      <td>NaN</td>\n",
       "      <td>NaN</td>\n",
       "      <td>NaN</td>\n",
       "      <td>NaN</td>\n",
       "      <td>NaN</td>\n",
       "      <td>NaN</td>\n",
       "      <td>NaN</td>\n",
       "      <td>NaN</td>\n",
       "      <td>NaN</td>\n",
       "      <td>NaN</td>\n",
       "    </tr>\n",
       "  </tbody>\n",
       "</table>\n",
       "</div>"
      ],
      "text/plain": [
       "               Ind_ID   Test_date Cough_symptoms   Fever Sore_throat  \\\n",
       "count   278848.000000      278848         278596  278596      278847   \n",
       "unique            NaN          51              2       2           2   \n",
       "top               NaN  20-04-2020          False   False       False   \n",
       "freq              NaN       10921         236368  256844      276921   \n",
       "mean    139424.500000         NaN            NaN     NaN         NaN   \n",
       "std      80496.628269         NaN            NaN     NaN         NaN   \n",
       "min          1.000000         NaN            NaN     NaN         NaN   \n",
       "25%      69712.750000         NaN            NaN     NaN         NaN   \n",
       "50%     139424.500000         NaN            NaN     NaN         NaN   \n",
       "75%     209136.250000         NaN            NaN     NaN         NaN   \n",
       "max     278848.000000         NaN            NaN     NaN         NaN   \n",
       "\n",
       "       Shortness_of_breath Headache    Corona Age_60_above     Sex  \\\n",
       "count               278847   278847    278848       151528  259285   \n",
       "unique                   2        2         3            2       2   \n",
       "top                  False    False  negative           No  female   \n",
       "freq                277270   276433    260227       125703  130158   \n",
       "mean                   NaN      NaN       NaN          NaN     NaN   \n",
       "std                    NaN      NaN       NaN          NaN     NaN   \n",
       "min                    NaN      NaN       NaN          NaN     NaN   \n",
       "25%                    NaN      NaN       NaN          NaN     NaN   \n",
       "50%                    NaN      NaN       NaN          NaN     NaN   \n",
       "75%                    NaN      NaN       NaN          NaN     NaN   \n",
       "max                    NaN      NaN       NaN          NaN     NaN   \n",
       "\n",
       "       Known_contact  \n",
       "count         278848  \n",
       "unique             3  \n",
       "top            Other  \n",
       "freq          242741  \n",
       "mean             NaN  \n",
       "std              NaN  \n",
       "min              NaN  \n",
       "25%              NaN  \n",
       "50%              NaN  \n",
       "75%              NaN  \n",
       "max              NaN  "
      ]
     },
     "execution_count": 5,
     "metadata": {},
     "output_type": "execute_result"
    }
   ],
   "source": [
    "df.describe(include='all')"
   ]
  },
  {
   "cell_type": "markdown",
   "metadata": {},
   "source": [
    "### Dealing with Missing Values"
   ]
  },
  {
   "cell_type": "code",
   "execution_count": 6,
   "metadata": {},
   "outputs": [
    {
     "data": {
      "text/plain": [
       "0"
      ]
     },
     "execution_count": 6,
     "metadata": {},
     "output_type": "execute_result"
    }
   ],
   "source": [
    "df.duplicated().sum()"
   ]
  },
  {
   "cell_type": "code",
   "execution_count": 7,
   "metadata": {},
   "outputs": [
    {
     "data": {
      "text/plain": [
       "Ind_ID                  int64\n",
       "Test_date              object\n",
       "Cough_symptoms         object\n",
       "Fever                  object\n",
       "Sore_throat            object\n",
       "Shortness_of_breath    object\n",
       "Headache               object\n",
       "Corona                 object\n",
       "Age_60_above           object\n",
       "Sex                    object\n",
       "Known_contact          object\n",
       "dtype: object"
      ]
     },
     "execution_count": 7,
     "metadata": {},
     "output_type": "execute_result"
    }
   ],
   "source": [
    "df.dtypes"
   ]
  },
  {
   "cell_type": "code",
   "execution_count": 8,
   "metadata": {},
   "outputs": [
    {
     "data": {
      "text/plain": [
       "Ind_ID                  0.000000\n",
       "Test_date               0.000000\n",
       "Cough_symptoms          0.090372\n",
       "Fever                   0.090372\n",
       "Sore_throat             0.000359\n",
       "Shortness_of_breath     0.000359\n",
       "Headache                0.000359\n",
       "Corona                  0.000000\n",
       "Age_60_above           45.659284\n",
       "Sex                     7.015650\n",
       "Known_contact           0.000000\n",
       "dtype: float64"
      ]
     },
     "execution_count": 8,
     "metadata": {},
     "output_type": "execute_result"
    }
   ],
   "source": [
    "df.isna().sum() / len(df) * 100"
   ]
  },
  {
   "cell_type": "code",
   "execution_count": 9,
   "metadata": {},
   "outputs": [],
   "source": [
    "df.dropna(subset=['Cough_symptoms', 'Fever', 'Sex'], axis=0, inplace=True)"
   ]
  },
  {
   "cell_type": "code",
   "execution_count": 10,
   "metadata": {},
   "outputs": [
    {
     "data": {
      "text/plain": [
       "Ind_ID                      0\n",
       "Test_date                   0\n",
       "Cough_symptoms              0\n",
       "Fever                       0\n",
       "Sore_throat                 0\n",
       "Shortness_of_breath         0\n",
       "Headache                    0\n",
       "Corona                      0\n",
       "Age_60_above           120870\n",
       "Sex                         0\n",
       "Known_contact               0\n",
       "dtype: int64"
      ]
     },
     "execution_count": 10,
     "metadata": {},
     "output_type": "execute_result"
    }
   ],
   "source": [
    "df.isna().sum()"
   ]
  },
  {
   "cell_type": "markdown",
   "metadata": {},
   "source": [
    "### Drop the un-necessary features"
   ]
  },
  {
   "cell_type": "code",
   "execution_count": 11,
   "metadata": {},
   "outputs": [],
   "source": [
    "df.drop('Ind_ID', axis=1, inplace=True)"
   ]
  },
  {
   "cell_type": "code",
   "execution_count": 12,
   "metadata": {},
   "outputs": [
    {
     "data": {
      "text/plain": [
       "Sex\n",
       "female    130030\n",
       "male      129012\n",
       "Name: count, dtype: int64"
      ]
     },
     "execution_count": 12,
     "metadata": {},
     "output_type": "execute_result"
    }
   ],
   "source": [
    "df.Sex.value_counts()"
   ]
  },
  {
   "cell_type": "code",
   "execution_count": 13,
   "metadata": {},
   "outputs": [
    {
     "name": "stdout",
     "output_type": "stream",
     "text": [
      "Cough_symptoms\n",
      "False    219387\n",
      "True      39655\n",
      "Name: count, dtype: int64\n",
      "----------------------\n",
      "Fever\n",
      "False    238848\n",
      "True      20194\n",
      "Name: count, dtype: int64\n",
      "----------------------\n",
      "Sore_throat\n",
      "False    257523\n",
      "True       1519\n",
      "Name: count, dtype: int64\n",
      "----------------------\n",
      "Shortness_of_breath\n",
      "False    257943\n",
      "True       1099\n",
      "Name: count, dtype: int64\n",
      "----------------------\n",
      "Headache\n",
      "False    256914\n",
      "True       2128\n",
      "Name: count, dtype: int64\n",
      "----------------------\n",
      "Corona\n",
      "negative    242136\n",
      "positive     13532\n",
      "other         3374\n",
      "Name: count, dtype: int64\n",
      "----------------------\n",
      "Age_60_above\n",
      "No     114092\n",
      "Yes     24080\n",
      "Name: count, dtype: int64\n",
      "----------------------\n",
      "Sex\n",
      "female    130030\n",
      "male      129012\n",
      "Name: count, dtype: int64\n",
      "----------------------\n",
      "Known_contact\n",
      "Other                     225638\n",
      "Abroad                     23665\n",
      "Contact with confirmed      9739\n",
      "Name: count, dtype: int64\n",
      "----------------------\n"
     ]
    }
   ],
   "source": [
    "for col in df.columns[1:]:\n",
    "    print(df[col].value_counts())\n",
    "    print('----------------------')"
   ]
  },
  {
   "cell_type": "markdown",
   "metadata": {},
   "source": [
    "### Data Vizualization"
   ]
  },
  {
   "cell_type": "code",
   "execution_count": 14,
   "metadata": {},
   "outputs": [
    {
     "data": {
      "text/plain": [
       "<Axes: xlabel='Sex'>"
      ]
     },
     "execution_count": 14,
     "metadata": {},
     "output_type": "execute_result"
    },
    {
     "data": {
      "image/png": "[encoded data removed]",
      "text/plain": [
       "<Figure size 640x480 with 1 Axes>"
      ]
     },
     "metadata": {},
     "output_type": "display_data"
    }
   ],
   "source": [
    "sns.barplot(x= df.Sex.value_counts().index,\n",
    "            y= df.Sex.value_counts().values)"
   ]
  },
  {
   "cell_type": "code",
   "execution_count": 15,
   "metadata": {},
   "outputs": [
    {
     "data": {
      "image/png": "[encoded data removed]",
      "text/plain": [
       "<Figure size 400x400 with 1 Axes>"
      ]
     },
     "metadata": {},
     "output_type": "display_data"
    }
   ],
   "source": [
    "# pie chart to display gender column\n",
    "\n",
    "labels = ['Female', 'Male']\n",
    "size = df['Sex'].value_counts()\n",
    "colors = ['royalblue', 'firebrick']\n",
    "explode = [0, 0.1]\n",
    "\n",
    "plt.rcParams['figure.figsize'] = (4, 4)\n",
    "plt.pie(size, colors = colors, explode = explode, labels = labels, shadow = True, autopct = '%.2f%%')\n",
    "plt.title('Gender %', fontsize = 12)\n",
    "plt.axis('off')\n",
    "plt.legend()\n",
    "plt.show()\n"
   ]
  },
  {
   "cell_type": "code",
   "execution_count": 16,
   "metadata": {},
   "outputs": [
    {
     "data": {
      "text/plain": [
       "Corona\n",
       "negative    242136\n",
       "positive     13532\n",
       "other         3374\n",
       "Name: count, dtype: int64"
      ]
     },
     "execution_count": 16,
     "metadata": {},
     "output_type": "execute_result"
    }
   ],
   "source": [
    "# check corona column\n",
    "df['Corona'].value_counts()"
   ]
  },
  {
   "cell_type": "code",
   "execution_count": 17,
   "metadata": {},
   "outputs": [
    {
     "data": {
      "text/plain": [
       "Corona\n",
       "negative    242136\n",
       "positive     13532\n",
       "Name: count, dtype: int64"
      ]
     },
     "execution_count": 17,
     "metadata": {},
     "output_type": "execute_result"
    }
   ],
   "source": [
    "# drop data with corona as other.\n",
    "df = df[df['Corona'] != 'other']\n",
    "df['Corona'].value_counts()\n"
   ]
  },
  {
   "cell_type": "code",
   "execution_count": 18,
   "metadata": {},
   "outputs": [
    {
     "data": {
      "text/plain": [
       "<Axes: xlabel='Corona'>"
      ]
     },
     "execution_count": 18,
     "metadata": {},
     "output_type": "execute_result"
    },
    {
     "data": {
      "image/png": "[encoded data removed]",
      "text/plain": [
       "<Figure size 400x400 with 1 Axes>"
      ]
     },
     "metadata": {},
     "output_type": "display_data"
    }
   ],
   "source": [
    "sns.barplot(x= df.Corona.value_counts().index,\n",
    "            y= df.Corona.value_counts().values)"
   ]
  },
  {
   "cell_type": "code",
   "execution_count": 19,
   "metadata": {},
   "outputs": [
    {
     "data": {
      "image/png": "[encoded data removed]",
      "text/plain": [
       "<Figure size 400x400 with 1 Axes>"
      ]
     },
     "metadata": {},
     "output_type": "display_data"
    }
   ],
   "source": [
    "# pie chart for corona column\n",
    "labels = ['Negative', 'Positive']\n",
    "size = df['Corona'].value_counts()\n",
    "colors = ['orange', 'brown']\n",
    "explode = [0, 0.3]\n",
    "\n",
    "plt.rcParams['figure.figsize'] = (4, 4)\n",
    "plt.pie(size, colors = colors, explode = explode, labels = labels, shadow = True, autopct = '%.2f%%')\n",
    "plt.title('Corona Affected %', fontsize = 15)\n",
    "plt.axis('off')\n",
    "plt.legend()\n",
    "plt.show()"
   ]
  },
  {
   "cell_type": "code",
   "execution_count": 20,
   "metadata": {},
   "outputs": [
    {
     "data": {
      "text/plain": [
       "Text(0, 0.5, 'No. of Patients')"
      ]
     },
     "execution_count": 20,
     "metadata": {},
     "output_type": "execute_result"
    },
    {
     "data": {
      "image/png": "[encoded data removed]",
      "text/plain": [
       "<Figure size 400x400 with 1 Axes>"
      ]
     },
     "metadata": {},
     "output_type": "display_data"
    }
   ],
   "source": [
    "sns.countplot(x='Shortness_of_breath',data=df)\n",
    "plt.title('Number of Patients with Breathing Problem')\n",
    "plt.xlabel('Breathing Problem')\n",
    "plt.ylabel('No. of Patients')"
   ]
  },
  {
   "cell_type": "code",
   "execution_count": 21,
   "metadata": {},
   "outputs": [
    {
     "data": {
      "text/plain": [
       "<Axes: xlabel='Shortness_of_breath', ylabel='count'>"
      ]
     },
     "execution_count": 21,
     "metadata": {},
     "output_type": "execute_result"
    },
    {
     "data": {
      "image/png": "[encoded data removed]",
      "text/plain": [
       "<Figure size 400x400 with 1 Axes>"
      ]
     },
     "metadata": {},
     "output_type": "display_data"
    }
   ],
   "source": [
    "sns.countplot(x='Shortness_of_breath',hue='Corona',data=df)"
   ]
  },
  {
   "cell_type": "code",
   "execution_count": 22,
   "metadata": {},
   "outputs": [
    {
     "data": {
      "image/png": "[encoded data removed]",
      "text/plain": [
       "<Figure size 400x400 with 1 Axes>"
      ]
     },
     "metadata": {},
     "output_type": "display_data"
    }
   ],
   "source": [
    "sns.countplot(x='Fever',hue='Corona',data=df);"
   ]
  },
  {
   "cell_type": "code",
   "execution_count": 23,
   "metadata": {},
   "outputs": [
    {
     "data": {
      "image/png": "[encoded data removed]",
      "text/plain": [
       "<Figure size 400x400 with 1 Axes>"
      ]
     },
     "metadata": {},
     "output_type": "display_data"
    }
   ],
   "source": [
    "sns.countplot(x='Cough_symptoms',hue='Corona',data=df);"
   ]
  },
  {
   "cell_type": "code",
   "execution_count": 24,
   "metadata": {},
   "outputs": [
    {
     "data": {
      "image/png": "[encoded data removed]",
      "text/plain": [
       "<Figure size 400x400 with 1 Axes>"
      ]
     },
     "metadata": {},
     "output_type": "display_data"
    }
   ],
   "source": [
    "sns.countplot(x='Sore_throat',hue='Corona',data=df);"
   ]
  },
  {
   "cell_type": "code",
   "execution_count": 25,
   "metadata": {},
   "outputs": [
    {
     "data": {
      "image/png": "[encoded data removed]",
      "text/plain": [
       "<Figure size 400x400 with 1 Axes>"
      ]
     },
     "metadata": {},
     "output_type": "display_data"
    }
   ],
   "source": [
    "sns.countplot(x='Headache',hue='Corona',data=df);"
   ]
  },
  {
   "cell_type": "markdown",
   "metadata": {},
   "source": [
    "### Feature Encoding"
   ]
  },
  {
   "cell_type": "code",
   "execution_count": 26,
   "metadata": {},
   "outputs": [],
   "source": [
    "from sklearn.preprocessing import LabelEncoder\n",
    "label_encoder=LabelEncoder()"
   ]
  },
  {
   "cell_type": "code",
   "execution_count": 50,
   "metadata": {},
   "outputs": [
    {
     "name": "stdout",
     "output_type": "stream",
     "text": [
      "{1: 1, 0: 0}\n"
     ]
    }
   ],
   "source": [
    "df['Cough_symptoms'] = label_encoder.fit_transform(df['Cough_symptoms'])\n",
    "df['Fever'] = label_encoder.fit_transform(df['Fever'])\n",
    "df['Sore_throat'] = label_encoder.fit_transform(df['Sore_throat'])\n",
    "df['Shortness_of_breath'] = label_encoder.fit_transform(df['Shortness_of_breath'])\n",
    "df['Headache'] = label_encoder.fit_transform(df['Headache'])\n",
    "df['Corona'] = label_encoder.fit_transform(df['Corona'])\n",
    "df['Sex'] = label_encoder.fit_transform(df['Sex'])\n",
    "df['Known_contact'] = label_encoder.fit_transform(df['Known_contact'])"
   ]
  },
  {
   "cell_type": "code",
   "execution_count": 28,
   "metadata": {},
   "outputs": [
    {
     "data": {
      "text/html": [
       "<div>\n",
       "<style scoped>\n",
       "    .dataframe tbody tr th:only-of-type {\n",
       "        vertical-align: middle;\n",
       "    }\n",
       "\n",
       "    .dataframe tbody tr th {\n",
       "        vertical-align: top;\n",
       "    }\n",
       "\n",
       "    .dataframe thead th {\n",
       "        text-align: right;\n",
       "    }\n",
       "</style>\n",
       "<table border=\"1\" class=\"dataframe\">\n",
       "  <thead>\n",
       "    <tr style=\"text-align: right;\">\n",
       "      <th></th>\n",
       "      <th>Test_date</th>\n",
       "      <th>Cough_symptoms</th>\n",
       "      <th>Fever</th>\n",
       "      <th>Sore_throat</th>\n",
       "      <th>Shortness_of_breath</th>\n",
       "      <th>Headache</th>\n",
       "      <th>Corona</th>\n",
       "      <th>Age_60_above</th>\n",
       "      <th>Sex</th>\n",
       "      <th>Known_contact</th>\n",
       "    </tr>\n",
       "  </thead>\n",
       "  <tbody>\n",
       "    <tr>\n",
       "      <th>13727</th>\n",
       "      <td>22-03-2020</td>\n",
       "      <td>1</td>\n",
       "      <td>0</td>\n",
       "      <td>0</td>\n",
       "      <td>0</td>\n",
       "      <td>0</td>\n",
       "      <td>0</td>\n",
       "      <td>No</td>\n",
       "      <td>1</td>\n",
       "      <td>0</td>\n",
       "    </tr>\n",
       "    <tr>\n",
       "      <th>13728</th>\n",
       "      <td>22-03-2020</td>\n",
       "      <td>1</td>\n",
       "      <td>0</td>\n",
       "      <td>0</td>\n",
       "      <td>0</td>\n",
       "      <td>0</td>\n",
       "      <td>0</td>\n",
       "      <td>No</td>\n",
       "      <td>0</td>\n",
       "      <td>0</td>\n",
       "    </tr>\n",
       "    <tr>\n",
       "      <th>13730</th>\n",
       "      <td>22-03-2020</td>\n",
       "      <td>1</td>\n",
       "      <td>1</td>\n",
       "      <td>0</td>\n",
       "      <td>0</td>\n",
       "      <td>0</td>\n",
       "      <td>1</td>\n",
       "      <td>Yes</td>\n",
       "      <td>0</td>\n",
       "      <td>2</td>\n",
       "    </tr>\n",
       "    <tr>\n",
       "      <th>13734</th>\n",
       "      <td>22-03-2020</td>\n",
       "      <td>0</td>\n",
       "      <td>0</td>\n",
       "      <td>0</td>\n",
       "      <td>0</td>\n",
       "      <td>0</td>\n",
       "      <td>0</td>\n",
       "      <td>No</td>\n",
       "      <td>1</td>\n",
       "      <td>2</td>\n",
       "    </tr>\n",
       "    <tr>\n",
       "      <th>13735</th>\n",
       "      <td>22-03-2020</td>\n",
       "      <td>0</td>\n",
       "      <td>0</td>\n",
       "      <td>0</td>\n",
       "      <td>0</td>\n",
       "      <td>0</td>\n",
       "      <td>0</td>\n",
       "      <td>No</td>\n",
       "      <td>0</td>\n",
       "      <td>2</td>\n",
       "    </tr>\n",
       "  </tbody>\n",
       "</table>\n",
       "</div>"
      ],
      "text/plain": [
       "        Test_date  Cough_symptoms  Fever  Sore_throat  Shortness_of_breath  \\\n",
       "13727  22-03-2020               1      0            0                    0   \n",
       "13728  22-03-2020               1      0            0                    0   \n",
       "13730  22-03-2020               1      1            0                    0   \n",
       "13734  22-03-2020               0      0            0                    0   \n",
       "13735  22-03-2020               0      0            0                    0   \n",
       "\n",
       "       Headache  Corona Age_60_above  Sex  Known_contact  \n",
       "13727         0       0           No    1              0  \n",
       "13728         0       0           No    0              0  \n",
       "13730         0       1          Yes    0              2  \n",
       "13734         0       0           No    1              2  \n",
       "13735         0       0           No    0              2  "
      ]
     },
     "execution_count": 28,
     "metadata": {},
     "output_type": "execute_result"
    }
   ],
   "source": [
    "df.head()"
   ]
  },
  {
   "cell_type": "code",
   "execution_count": 29,
   "metadata": {},
   "outputs": [
    {
     "data": {
      "text/plain": [
       "int64     8\n",
       "object    2\n",
       "Name: count, dtype: int64"
      ]
     },
     "execution_count": 29,
     "metadata": {},
     "output_type": "execute_result"
    }
   ],
   "source": [
    "df.dtypes.value_counts()"
   ]
  },
  {
   "cell_type": "markdown",
   "metadata": {},
   "source": [
    "### Data Analysis After Transformation"
   ]
  },
  {
   "cell_type": "code",
   "execution_count": 30,
   "metadata": {},
   "outputs": [
    {
     "data": {
      "text/html": [
       "<div>\n",
       "<style scoped>\n",
       "    .dataframe tbody tr th:only-of-type {\n",
       "        vertical-align: middle;\n",
       "    }\n",
       "\n",
       "    .dataframe tbody tr th {\n",
       "        vertical-align: top;\n",
       "    }\n",
       "\n",
       "    .dataframe thead th {\n",
       "        text-align: right;\n",
       "    }\n",
       "</style>\n",
       "<table border=\"1\" class=\"dataframe\">\n",
       "  <thead>\n",
       "    <tr style=\"text-align: right;\">\n",
       "      <th></th>\n",
       "      <th>Cough_symptoms</th>\n",
       "      <th>Fever</th>\n",
       "      <th>Sore_throat</th>\n",
       "      <th>Shortness_of_breath</th>\n",
       "      <th>Headache</th>\n",
       "      <th>Corona</th>\n",
       "      <th>Sex</th>\n",
       "      <th>Known_contact</th>\n",
       "    </tr>\n",
       "  </thead>\n",
       "  <tbody>\n",
       "    <tr>\n",
       "      <th>count</th>\n",
       "      <td>255668.000000</td>\n",
       "      <td>255668.000000</td>\n",
       "      <td>255668.000000</td>\n",
       "      <td>255668.000000</td>\n",
       "      <td>255668.000000</td>\n",
       "      <td>255668.000000</td>\n",
       "      <td>255668.000000</td>\n",
       "      <td>255668.000000</td>\n",
       "    </tr>\n",
       "    <tr>\n",
       "      <th>mean</th>\n",
       "      <td>0.152745</td>\n",
       "      <td>0.077655</td>\n",
       "      <td>0.005851</td>\n",
       "      <td>0.004216</td>\n",
       "      <td>0.008226</td>\n",
       "      <td>0.052928</td>\n",
       "      <td>0.497735</td>\n",
       "      <td>1.780141</td>\n",
       "    </tr>\n",
       "    <tr>\n",
       "      <th>std</th>\n",
       "      <td>0.359742</td>\n",
       "      <td>0.267629</td>\n",
       "      <td>0.076270</td>\n",
       "      <td>0.064797</td>\n",
       "      <td>0.090321</td>\n",
       "      <td>0.223890</td>\n",
       "      <td>0.499996</td>\n",
       "      <td>0.594862</td>\n",
       "    </tr>\n",
       "    <tr>\n",
       "      <th>min</th>\n",
       "      <td>0.000000</td>\n",
       "      <td>0.000000</td>\n",
       "      <td>0.000000</td>\n",
       "      <td>0.000000</td>\n",
       "      <td>0.000000</td>\n",
       "      <td>0.000000</td>\n",
       "      <td>0.000000</td>\n",
       "      <td>0.000000</td>\n",
       "    </tr>\n",
       "    <tr>\n",
       "      <th>25%</th>\n",
       "      <td>0.000000</td>\n",
       "      <td>0.000000</td>\n",
       "      <td>0.000000</td>\n",
       "      <td>0.000000</td>\n",
       "      <td>0.000000</td>\n",
       "      <td>0.000000</td>\n",
       "      <td>0.000000</td>\n",
       "      <td>2.000000</td>\n",
       "    </tr>\n",
       "    <tr>\n",
       "      <th>50%</th>\n",
       "      <td>0.000000</td>\n",
       "      <td>0.000000</td>\n",
       "      <td>0.000000</td>\n",
       "      <td>0.000000</td>\n",
       "      <td>0.000000</td>\n",
       "      <td>0.000000</td>\n",
       "      <td>0.000000</td>\n",
       "      <td>2.000000</td>\n",
       "    </tr>\n",
       "    <tr>\n",
       "      <th>75%</th>\n",
       "      <td>0.000000</td>\n",
       "      <td>0.000000</td>\n",
       "      <td>0.000000</td>\n",
       "      <td>0.000000</td>\n",
       "      <td>0.000000</td>\n",
       "      <td>0.000000</td>\n",
       "      <td>1.000000</td>\n",
       "      <td>2.000000</td>\n",
       "    </tr>\n",
       "    <tr>\n",
       "      <th>max</th>\n",
       "      <td>1.000000</td>\n",
       "      <td>1.000000</td>\n",
       "      <td>1.000000</td>\n",
       "      <td>1.000000</td>\n",
       "      <td>1.000000</td>\n",
       "      <td>1.000000</td>\n",
       "      <td>1.000000</td>\n",
       "      <td>2.000000</td>\n",
       "    </tr>\n",
       "  </tbody>\n",
       "</table>\n",
       "</div>"
      ],
      "text/plain": [
       "       Cough_symptoms          Fever    Sore_throat  Shortness_of_breath  \\\n",
       "count   255668.000000  255668.000000  255668.000000        255668.000000   \n",
       "mean         0.152745       0.077655       0.005851             0.004216   \n",
       "std          0.359742       0.267629       0.076270             0.064797   \n",
       "min          0.000000       0.000000       0.000000             0.000000   \n",
       "25%          0.000000       0.000000       0.000000             0.000000   \n",
       "50%          0.000000       0.000000       0.000000             0.000000   \n",
       "75%          0.000000       0.000000       0.000000             0.000000   \n",
       "max          1.000000       1.000000       1.000000             1.000000   \n",
       "\n",
       "            Headache         Corona            Sex  Known_contact  \n",
       "count  255668.000000  255668.000000  255668.000000  255668.000000  \n",
       "mean        0.008226       0.052928       0.497735       1.780141  \n",
       "std         0.090321       0.223890       0.499996       0.594862  \n",
       "min         0.000000       0.000000       0.000000       0.000000  \n",
       "25%         0.000000       0.000000       0.000000       2.000000  \n",
       "50%         0.000000       0.000000       0.000000       2.000000  \n",
       "75%         0.000000       0.000000       1.000000       2.000000  \n",
       "max         1.000000       1.000000       1.000000       2.000000  "
      ]
     },
     "execution_count": 30,
     "metadata": {},
     "output_type": "execute_result"
    }
   ],
   "source": [
    "df.describe()"
   ]
  },
  {
   "cell_type": "code",
   "execution_count": 31,
   "metadata": {},
   "outputs": [],
   "source": [
    "corr_df = df.drop(labels = [\"Test_date\", \"Corona\", \"Age_60_above\"], axis=1)"
   ]
  },
  {
   "cell_type": "code",
   "execution_count": 32,
   "metadata": {},
   "outputs": [
    {
     "data": {
      "text/html": [
       "<style type=\"text/css\">\n",
       "#T_6afa5_row0_col0, #T_6afa5_row1_col1, #T_6afa5_row2_col2, #T_6afa5_row3_col3, #T_6afa5_row4_col4, #T_6afa5_row5_col5, #T_6afa5_row6_col6 {\n",
       "  background-color: #fcffa4;\n",
       "  color: #000000;\n",
       "}\n",
       "#T_6afa5_row0_col1 {\n",
       "  background-color: #da4e3c;\n",
       "  color: #f1f1f1;\n",
       "}\n",
       "#T_6afa5_row0_col2, #T_6afa5_row1_col3 {\n",
       "  background-color: #320a5e;\n",
       "  color: #f1f1f1;\n",
       "}\n",
       "#T_6afa5_row0_col3 {\n",
       "  background-color: #290b55;\n",
       "  color: #f1f1f1;\n",
       "}\n",
       "#T_6afa5_row0_col4 {\n",
       "  background-color: #390963;\n",
       "  color: #f1f1f1;\n",
       "}\n",
       "#T_6afa5_row0_col5, #T_6afa5_row5_col2 {\n",
       "  background-color: #0a0722;\n",
       "  color: #f1f1f1;\n",
       "}\n",
       "#T_6afa5_row0_col6, #T_6afa5_row6_col0, #T_6afa5_row6_col1, #T_6afa5_row6_col2, #T_6afa5_row6_col3, #T_6afa5_row6_col4, #T_6afa5_row6_col5 {\n",
       "  background-color: #000004;\n",
       "  color: #f1f1f1;\n",
       "}\n",
       "#T_6afa5_row1_col0 {\n",
       "  background-color: #ea632a;\n",
       "  color: #f1f1f1;\n",
       "}\n",
       "#T_6afa5_row1_col2 {\n",
       "  background-color: #380962;\n",
       "  color: #f1f1f1;\n",
       "}\n",
       "#T_6afa5_row1_col4 {\n",
       "  background-color: #4d0d6c;\n",
       "  color: #f1f1f1;\n",
       "}\n",
       "#T_6afa5_row1_col5 {\n",
       "  background-color: #0b0724;\n",
       "  color: #f1f1f1;\n",
       "}\n",
       "#T_6afa5_row1_col6 {\n",
       "  background-color: #280b53;\n",
       "  color: #f1f1f1;\n",
       "}\n",
       "#T_6afa5_row2_col0 {\n",
       "  background-color: #a02a63;\n",
       "  color: #f1f1f1;\n",
       "}\n",
       "#T_6afa5_row2_col1, #T_6afa5_row3_col1 {\n",
       "  background-color: #7d1e6d;\n",
       "  color: #f1f1f1;\n",
       "}\n",
       "#T_6afa5_row2_col3 {\n",
       "  background-color: #550f6d;\n",
       "  color: #f1f1f1;\n",
       "}\n",
       "#T_6afa5_row2_col4 {\n",
       "  background-color: #902568;\n",
       "  color: #f1f1f1;\n",
       "}\n",
       "#T_6afa5_row2_col5 {\n",
       "  background-color: #02020e;\n",
       "  color: #f1f1f1;\n",
       "}\n",
       "#T_6afa5_row2_col6 {\n",
       "  background-color: #721a6e;\n",
       "  color: #f1f1f1;\n",
       "}\n",
       "#T_6afa5_row3_col0 {\n",
       "  background-color: #9d2964;\n",
       "  color: #f1f1f1;\n",
       "}\n",
       "#T_6afa5_row3_col2 {\n",
       "  background-color: #5a116e;\n",
       "  color: #f1f1f1;\n",
       "}\n",
       "#T_6afa5_row3_col4, #T_6afa5_row5_col1 {\n",
       "  background-color: #64156e;\n",
       "  color: #f1f1f1;\n",
       "}\n",
       "#T_6afa5_row3_col5, #T_6afa5_row4_col5 {\n",
       "  background-color: #040312;\n",
       "  color: #f1f1f1;\n",
       "}\n",
       "#T_6afa5_row3_col6 {\n",
       "  background-color: #751b6e;\n",
       "  color: #f1f1f1;\n",
       "}\n",
       "#T_6afa5_row4_col0 {\n",
       "  background-color: #a22b62;\n",
       "  color: #f1f1f1;\n",
       "}\n",
       "#T_6afa5_row4_col1 {\n",
       "  background-color: #8a226a;\n",
       "  color: #f1f1f1;\n",
       "}\n",
       "#T_6afa5_row4_col2 {\n",
       "  background-color: #8d2369;\n",
       "  color: #f1f1f1;\n",
       "}\n",
       "#T_6afa5_row4_col3 {\n",
       "  background-color: #5c126e;\n",
       "  color: #f1f1f1;\n",
       "}\n",
       "#T_6afa5_row4_col6 {\n",
       "  background-color: #6f196e;\n",
       "  color: #f1f1f1;\n",
       "}\n",
       "#T_6afa5_row5_col0 {\n",
       "  background-color: #8c2369;\n",
       "  color: #f1f1f1;\n",
       "}\n",
       "#T_6afa5_row5_col3 {\n",
       "  background-color: #09061f;\n",
       "  color: #f1f1f1;\n",
       "}\n",
       "#T_6afa5_row5_col4 {\n",
       "  background-color: #10092d;\n",
       "  color: #f1f1f1;\n",
       "}\n",
       "#T_6afa5_row5_col6 {\n",
       "  background-color: #7c1d6d;\n",
       "  color: #f1f1f1;\n",
       "}\n",
       "</style>\n",
       "<table id=\"T_6afa5\">\n",
       "  <thead>\n",
       "    <tr>\n",
       "      <th class=\"blank level0\" >&nbsp;</th>\n",
       "      <th id=\"T_6afa5_level0_col0\" class=\"col_heading level0 col0\" >Cough_symptoms</th>\n",
       "      <th id=\"T_6afa5_level0_col1\" class=\"col_heading level0 col1\" >Fever</th>\n",
       "      <th id=\"T_6afa5_level0_col2\" class=\"col_heading level0 col2\" >Sore_throat</th>\n",
       "      <th id=\"T_6afa5_level0_col3\" class=\"col_heading level0 col3\" >Shortness_of_breath</th>\n",
       "      <th id=\"T_6afa5_level0_col4\" class=\"col_heading level0 col4\" >Headache</th>\n",
       "      <th id=\"T_6afa5_level0_col5\" class=\"col_heading level0 col5\" >Sex</th>\n",
       "      <th id=\"T_6afa5_level0_col6\" class=\"col_heading level0 col6\" >Known_contact</th>\n",
       "    </tr>\n",
       "  </thead>\n",
       "  <tbody>\n",
       "    <tr>\n",
       "      <th id=\"T_6afa5_level0_row0\" class=\"row_heading level0 row0\" >Cough_symptoms</th>\n",
       "      <td id=\"T_6afa5_row0_col0\" class=\"data row0 col0\" >1.000000</td>\n",
       "      <td id=\"T_6afa5_row0_col1\" class=\"data row0 col1\" >0.451896</td>\n",
       "      <td id=\"T_6afa5_row0_col2\" class=\"data row0 col2\" >0.105560</td>\n",
       "      <td id=\"T_6afa5_row0_col3\" class=\"data row0 col3\" >0.097546</td>\n",
       "      <td id=\"T_6afa5_row0_col4\" class=\"data row0 col4\" >0.114091</td>\n",
       "      <td id=\"T_6afa5_row0_col5\" class=\"data row0 col5\" >0.030953</td>\n",
       "      <td id=\"T_6afa5_row0_col6\" class=\"data row0 col6\" >-0.569529</td>\n",
       "    </tr>\n",
       "    <tr>\n",
       "      <th id=\"T_6afa5_level0_row1\" class=\"row_heading level0 row1\" >Fever</th>\n",
       "      <td id=\"T_6afa5_row1_col0\" class=\"data row1 col0\" >0.451896</td>\n",
       "      <td id=\"T_6afa5_row1_col1\" class=\"data row1 col1\" >1.000000</td>\n",
       "      <td id=\"T_6afa5_row1_col2\" class=\"data row1 col2\" >0.118579</td>\n",
       "      <td id=\"T_6afa5_row1_col3\" class=\"data row1 col3\" >0.118703</td>\n",
       "      <td id=\"T_6afa5_row1_col4\" class=\"data row1 col4\" >0.164186</td>\n",
       "      <td id=\"T_6afa5_row1_col5\" class=\"data row1 col5\" >0.035893</td>\n",
       "      <td id=\"T_6afa5_row1_col6\" class=\"data row1 col6\" >-0.343291</td>\n",
       "    </tr>\n",
       "    <tr>\n",
       "      <th id=\"T_6afa5_level0_row2\" class=\"row_heading level0 row2\" >Sore_throat</th>\n",
       "      <td id=\"T_6afa5_row2_col0\" class=\"data row2 col0\" >0.105560</td>\n",
       "      <td id=\"T_6afa5_row2_col1\" class=\"data row2 col1\" >0.118579</td>\n",
       "      <td id=\"T_6afa5_row2_col2\" class=\"data row2 col2\" >1.000000</td>\n",
       "      <td id=\"T_6afa5_row2_col3\" class=\"data row2 col3\" >0.204739</td>\n",
       "      <td id=\"T_6afa5_row2_col4\" class=\"data row2 col4\" >0.339929</td>\n",
       "      <td id=\"T_6afa5_row2_col5\" class=\"data row2 col5\" >-0.005909</td>\n",
       "      <td id=\"T_6afa5_row2_col6\" class=\"data row2 col6\" >-0.072510</td>\n",
       "    </tr>\n",
       "    <tr>\n",
       "      <th id=\"T_6afa5_level0_row3\" class=\"row_heading level0 row3\" >Shortness_of_breath</th>\n",
       "      <td id=\"T_6afa5_row3_col0\" class=\"data row3 col0\" >0.097546</td>\n",
       "      <td id=\"T_6afa5_row3_col1\" class=\"data row3 col1\" >0.118703</td>\n",
       "      <td id=\"T_6afa5_row3_col2\" class=\"data row3 col2\" >0.204739</td>\n",
       "      <td id=\"T_6afa5_row3_col3\" class=\"data row3 col3\" >1.000000</td>\n",
       "      <td id=\"T_6afa5_row3_col4\" class=\"data row3 col4\" >0.222638</td>\n",
       "      <td id=\"T_6afa5_row3_col5\" class=\"data row3 col5\" >0.004520</td>\n",
       "      <td id=\"T_6afa5_row3_col6\" class=\"data row3 col6\" >-0.056723</td>\n",
       "    </tr>\n",
       "    <tr>\n",
       "      <th id=\"T_6afa5_level0_row4\" class=\"row_heading level0 row4\" >Headache</th>\n",
       "      <td id=\"T_6afa5_row4_col0\" class=\"data row4 col0\" >0.114091</td>\n",
       "      <td id=\"T_6afa5_row4_col1\" class=\"data row4 col1\" >0.164186</td>\n",
       "      <td id=\"T_6afa5_row4_col2\" class=\"data row4 col2\" >0.339929</td>\n",
       "      <td id=\"T_6afa5_row4_col3\" class=\"data row4 col3\" >0.222638</td>\n",
       "      <td id=\"T_6afa5_row4_col4\" class=\"data row4 col4\" >1.000000</td>\n",
       "      <td id=\"T_6afa5_row4_col5\" class=\"data row4 col5\" >0.002188</td>\n",
       "      <td id=\"T_6afa5_row4_col6\" class=\"data row4 col6\" >-0.083327</td>\n",
       "    </tr>\n",
       "    <tr>\n",
       "      <th id=\"T_6afa5_level0_row5\" class=\"row_heading level0 row5\" >Sex</th>\n",
       "      <td id=\"T_6afa5_row5_col0\" class=\"data row5 col0\" >0.030953</td>\n",
       "      <td id=\"T_6afa5_row5_col1\" class=\"data row5 col1\" >0.035893</td>\n",
       "      <td id=\"T_6afa5_row5_col2\" class=\"data row5 col2\" >-0.005909</td>\n",
       "      <td id=\"T_6afa5_row5_col3\" class=\"data row5 col3\" >0.004520</td>\n",
       "      <td id=\"T_6afa5_row5_col4\" class=\"data row5 col4\" >0.002188</td>\n",
       "      <td id=\"T_6afa5_row5_col5\" class=\"data row5 col5\" >1.000000</td>\n",
       "      <td id=\"T_6afa5_row5_col6\" class=\"data row5 col6\" >-0.030257</td>\n",
       "    </tr>\n",
       "    <tr>\n",
       "      <th id=\"T_6afa5_level0_row6\" class=\"row_heading level0 row6\" >Known_contact</th>\n",
       "      <td id=\"T_6afa5_row6_col0\" class=\"data row6 col0\" >-0.569529</td>\n",
       "      <td id=\"T_6afa5_row6_col1\" class=\"data row6 col1\" >-0.343291</td>\n",
       "      <td id=\"T_6afa5_row6_col2\" class=\"data row6 col2\" >-0.072510</td>\n",
       "      <td id=\"T_6afa5_row6_col3\" class=\"data row6 col3\" >-0.056723</td>\n",
       "      <td id=\"T_6afa5_row6_col4\" class=\"data row6 col4\" >-0.083327</td>\n",
       "      <td id=\"T_6afa5_row6_col5\" class=\"data row6 col5\" >-0.030257</td>\n",
       "      <td id=\"T_6afa5_row6_col6\" class=\"data row6 col6\" >1.000000</td>\n",
       "    </tr>\n",
       "  </tbody>\n",
       "</table>\n"
      ],
      "text/plain": [
       "<pandas.io.formats.style.Styler at 0x16e52c610>"
      ]
     },
     "execution_count": 32,
     "metadata": {},
     "output_type": "execute_result"
    }
   ],
   "source": [
    "corr=corr_df.corr()\n",
    "corr.style.background_gradient(cmap='inferno')"
   ]
  },
  {
   "cell_type": "markdown",
   "metadata": {},
   "source": [
    "### Splitting into train and test datasets\n",
    "\n",
    "- Here, we are trying to predict whether the patient has a corona or not using the given data.\n",
    "- Hence, the Corona will be the 'target' label and rest of the data (excluding test_date, known_contact and age) will be the feature data."
   ]
  },
  {
   "cell_type": "code",
   "execution_count": 33,
   "metadata": {},
   "outputs": [
    {
     "data": {
      "text/html": [
       "<div>\n",
       "<style scoped>\n",
       "    .dataframe tbody tr th:only-of-type {\n",
       "        vertical-align: middle;\n",
       "    }\n",
       "\n",
       "    .dataframe tbody tr th {\n",
       "        vertical-align: top;\n",
       "    }\n",
       "\n",
       "    .dataframe thead th {\n",
       "        text-align: right;\n",
       "    }\n",
       "</style>\n",
       "<table border=\"1\" class=\"dataframe\">\n",
       "  <thead>\n",
       "    <tr style=\"text-align: right;\">\n",
       "      <th></th>\n",
       "      <th>Cough_symptoms</th>\n",
       "      <th>Fever</th>\n",
       "      <th>Sore_throat</th>\n",
       "      <th>Shortness_of_breath</th>\n",
       "      <th>Headache</th>\n",
       "      <th>Sex</th>\n",
       "      <th>Known_contact</th>\n",
       "    </tr>\n",
       "  </thead>\n",
       "  <tbody>\n",
       "    <tr>\n",
       "      <th>13727</th>\n",
       "      <td>1</td>\n",
       "      <td>0</td>\n",
       "      <td>0</td>\n",
       "      <td>0</td>\n",
       "      <td>0</td>\n",
       "      <td>1</td>\n",
       "      <td>0</td>\n",
       "    </tr>\n",
       "    <tr>\n",
       "      <th>13728</th>\n",
       "      <td>1</td>\n",
       "      <td>0</td>\n",
       "      <td>0</td>\n",
       "      <td>0</td>\n",
       "      <td>0</td>\n",
       "      <td>0</td>\n",
       "      <td>0</td>\n",
       "    </tr>\n",
       "    <tr>\n",
       "      <th>13730</th>\n",
       "      <td>1</td>\n",
       "      <td>1</td>\n",
       "      <td>0</td>\n",
       "      <td>0</td>\n",
       "      <td>0</td>\n",
       "      <td>0</td>\n",
       "      <td>2</td>\n",
       "    </tr>\n",
       "    <tr>\n",
       "      <th>13734</th>\n",
       "      <td>0</td>\n",
       "      <td>0</td>\n",
       "      <td>0</td>\n",
       "      <td>0</td>\n",
       "      <td>0</td>\n",
       "      <td>1</td>\n",
       "      <td>2</td>\n",
       "    </tr>\n",
       "    <tr>\n",
       "      <th>13735</th>\n",
       "      <td>0</td>\n",
       "      <td>0</td>\n",
       "      <td>0</td>\n",
       "      <td>0</td>\n",
       "      <td>0</td>\n",
       "      <td>0</td>\n",
       "      <td>2</td>\n",
       "    </tr>\n",
       "  </tbody>\n",
       "</table>\n",
       "</div>"
      ],
      "text/plain": [
       "       Cough_symptoms  Fever  Sore_throat  Shortness_of_breath  Headache  Sex  \\\n",
       "13727               1      0            0                    0         0    1   \n",
       "13728               1      0            0                    0         0    0   \n",
       "13730               1      1            0                    0         0    0   \n",
       "13734               0      0            0                    0         0    1   \n",
       "13735               0      0            0                    0         0    0   \n",
       "\n",
       "       Known_contact  \n",
       "13727              0  \n",
       "13728              0  \n",
       "13730              2  \n",
       "13734              2  \n",
       "13735              2  "
      ]
     },
     "execution_count": 33,
     "metadata": {},
     "output_type": "execute_result"
    }
   ],
   "source": [
    "# Feature data\n",
    "feature = df.drop(labels = [\"Test_date\", \"Corona\", \"Age_60_above\"], axis=1)\n",
    "feature.head()"
   ]
  },
  {
   "cell_type": "code",
   "execution_count": 34,
   "metadata": {},
   "outputs": [
    {
     "data": {
      "text/plain": [
       "13727    0\n",
       "13728    0\n",
       "13730    1\n",
       "13734    0\n",
       "13735    0\n",
       "Name: Corona, dtype: int64"
      ]
     },
     "execution_count": 34,
     "metadata": {},
     "output_type": "execute_result"
    }
   ],
   "source": [
    "# target data\n",
    "target = df[\"Corona\"]\n",
    "target.head()"
   ]
  },
  {
   "cell_type": "code",
   "execution_count": 35,
   "metadata": {},
   "outputs": [],
   "source": [
    "from sklearn.model_selection import train_test_split\n",
    "X_train, X_test, y_train, y_test = train_test_split(feature,target,test_size=0.2, random_state=42)"
   ]
  },
  {
   "cell_type": "code",
   "execution_count": 36,
   "metadata": {},
   "outputs": [
    {
     "data": {
      "text/plain": [
       "(204534, 51134)"
      ]
     },
     "execution_count": 36,
     "metadata": {},
     "output_type": "execute_result"
    }
   ],
   "source": [
    "# here we can see the number of columns in the input data\n",
    "len(X_train), len(X_test)"
   ]
  },
  {
   "cell_type": "markdown",
   "metadata": {},
   "source": [
    "#### Logistic Regression¶"
   ]
  },
  {
   "cell_type": "code",
   "execution_count": 37,
   "metadata": {},
   "outputs": [
    {
     "name": "stdout",
     "output_type": "stream",
     "text": [
      "Logistic Regression accuracy: 95.87%\n",
      "\n",
      "Classification Report:\n",
      "              precision    recall  f1-score   support\n",
      "\n",
      "           0       0.96      1.00      0.98     48407\n",
      "           1       0.92      0.25      0.39      2727\n",
      "\n",
      "    accuracy                           0.96     51134\n",
      "   macro avg       0.94      0.62      0.68     51134\n",
      "weighted avg       0.96      0.96      0.95     51134\n",
      "\n",
      "\n",
      "Confusion Matrix:\n",
      "[[48347    60]\n",
      " [ 2051   676]]\n"
     ]
    }
   ],
   "source": [
    "from sklearn.linear_model import LogisticRegression\n",
    "from sklearn.metrics import classification_report, confusion_matrix\n",
    "model_lg = LogisticRegression()\n",
    "\n",
    "#Fit the model\n",
    "model_lg.fit(X_train, y_train)\n",
    "y_pred = model_lg.predict(X_test)\n",
    "\n",
    "#Score/Accuracy\n",
    "acc_logreg=model_lg.score(X_test, y_test)*100\n",
    "acc_logreg=round(acc_logreg, 2)\n",
    "print(f\"Logistic Regression accuracy: {acc_logreg}%\")\n",
    "\n",
    "# Model Evaluation\n",
    "y_pred = model_lg.predict(X_test)\n",
    "classification_report_result = classification_report(y_test, y_pred)\n",
    "confusion_matrix_result = confusion_matrix(y_test, y_pred)\n",
    "print(\"\\nClassification Report:\")\n",
    "print(classification_report_result)\n",
    "print(\"\\nConfusion Matrix:\")\n",
    "print(confusion_matrix_result)"
   ]
  },
  {
   "cell_type": "markdown",
   "metadata": {},
   "source": [
    "#### Random Forest Classifier"
   ]
  },
  {
   "cell_type": "code",
   "execution_count": 38,
   "metadata": {},
   "outputs": [
    {
     "name": "stdout",
     "output_type": "stream",
     "text": [
      "Random Forest Classifier accuracy: 96.98634959127%\n",
      "\n",
      "Classification Report:\n",
      "              precision    recall  f1-score   support\n",
      "\n",
      "           0       0.98      0.99      0.98     48407\n",
      "           1       0.78      0.60      0.68      2727\n",
      "\n",
      "    accuracy                           0.97     51134\n",
      "   macro avg       0.88      0.80      0.83     51134\n",
      "weighted avg       0.97      0.97      0.97     51134\n",
      "\n",
      "\n",
      "Confusion Matrix:\n",
      "[[47957   450]\n",
      " [ 1091  1636]]\n"
     ]
    }
   ],
   "source": [
    "from sklearn.ensemble import RandomForestClassifier\n",
    "model_rfc = RandomForestClassifier()\n",
    "\n",
    "#Fit the model\n",
    "model_rfc.fit(X_train, y_train)\n",
    "\n",
    "#Score/Accuracy\n",
    "RandomForestClassifierScore = model_rfc.score(X_test,y_test)*100\n",
    "print(f\"Random Forest Classifier accuracy: {RandomForestClassifierScore}%\")\n",
    "\n",
    "# Model Evaluation\n",
    "y_pred = model_rfc.predict(X_test)\n",
    "classification_report_result = classification_report(y_test, y_pred)\n",
    "confusion_matrix_result = confusion_matrix(y_test, y_pred)\n",
    "print(\"\\nClassification Report:\")\n",
    "print(classification_report_result)\n",
    "print(\"\\nConfusion Matrix:\")\n",
    "print(confusion_matrix_result)"
   ]
  },
  {
   "cell_type": "markdown",
   "metadata": {},
   "source": [
    "#### Decision Tree Classifier"
   ]
  },
  {
   "cell_type": "code",
   "execution_count": 39,
   "metadata": {},
   "outputs": [
    {
     "name": "stdout",
     "output_type": "stream",
     "text": [
      "Decision Tree Classifier accuracy: 96.98830523721985%\n",
      "\n",
      "Classification Report:\n",
      "              precision    recall  f1-score   support\n",
      "\n",
      "           0       0.98      0.99      0.98     48407\n",
      "           1       0.78      0.60      0.68      2727\n",
      "\n",
      "    accuracy                           0.97     51134\n",
      "   macro avg       0.88      0.80      0.83     51134\n",
      "weighted avg       0.97      0.97      0.97     51134\n",
      "\n",
      "\n",
      "Confusion Matrix:\n",
      "[[47958   449]\n",
      " [ 1091  1636]]\n"
     ]
    }
   ],
   "source": [
    "from sklearn import tree\n",
    "model_dtc = tree.DecisionTreeClassifier()\n",
    "\n",
    "# Fit the model\n",
    "model_dtc.fit(X_train,y_train)\n",
    "y_pred = model_dtc.predict(X_test)\n",
    "\n",
    "#Score/Accuracy\n",
    "acc_decisiontree=model_dtc.score(X_test, y_test)*100\n",
    "\n",
    "print(f\"Decision Tree Classifier accuracy: {acc_decisiontree}%\")\n",
    "\n",
    "# Model Evaluation\n",
    "y_pred = model_dtc.predict(X_test)\n",
    "classification_report_result = classification_report(y_test, y_pred)\n",
    "confusion_matrix_result = confusion_matrix(y_test, y_pred)\n",
    "print(\"\\nClassification Report:\")\n",
    "print(classification_report_result)\n",
    "print(\"\\nConfusion Matrix:\")\n",
    "print(confusion_matrix_result)"
   ]
  },
  {
   "cell_type": "markdown",
   "metadata": {},
   "source": [
    "#### Gradient Boosting Classifier"
   ]
  },
  {
   "cell_type": "code",
   "execution_count": 40,
   "metadata": {},
   "outputs": [
    {
     "name": "stdout",
     "output_type": "stream",
     "text": [
      "Gradient Boosting Classifier accuracy: 96.99221652911957%\n",
      "\n",
      "Classification Report:\n",
      "              precision    recall  f1-score   support\n",
      "\n",
      "           0       0.98      0.99      0.98     48407\n",
      "           1       0.78      0.60      0.68      2727\n",
      "\n",
      "    accuracy                           0.97     51134\n",
      "   macro avg       0.88      0.80      0.83     51134\n",
      "weighted avg       0.97      0.97      0.97     51134\n",
      "\n",
      "\n",
      "Confusion Matrix:\n",
      "[[47956   451]\n",
      " [ 1087  1640]]\n"
     ]
    }
   ],
   "source": [
    "from sklearn.ensemble import GradientBoostingClassifier\n",
    "model_gbc = GradientBoostingClassifier()\n",
    "\n",
    "# Fit the model\n",
    "model_gbc.fit(X_train, y_train)\n",
    "\n",
    "#Score/Accuracy\n",
    "GradientBoostingClassifierScore = model_gbc.score(X_test,y_test)*100\n",
    "print(f\"Gradient Boosting Classifier accuracy: {GradientBoostingClassifierScore}%\")\n",
    "\n",
    "# Model Evaluation\n",
    "y_pred = model_gbc.predict(X_test)\n",
    "classification_report_result = classification_report(y_test, y_pred)\n",
    "confusion_matrix_result = confusion_matrix(y_test, y_pred)\n",
    "print(\"\\nClassification Report:\")\n",
    "print(classification_report_result)\n",
    "print(\"\\nConfusion Matrix:\")\n",
    "print(confusion_matrix_result)"
   ]
  },
  {
   "cell_type": "markdown",
   "metadata": {},
   "source": [
    "#### SVC"
   ]
  },
  {
   "cell_type": "code",
   "execution_count": 41,
   "metadata": {},
   "outputs": [
    {
     "name": "stdout",
     "output_type": "stream",
     "text": [
      "SVC model accuracy: 97.02350686431728%\n",
      "\n",
      "Classification Report:\n",
      "              precision    recall  f1-score   support\n",
      "\n",
      "           0       0.98      0.99      0.98     48407\n",
      "           1       0.82      0.56      0.67      2727\n",
      "\n",
      "    accuracy                           0.97     51134\n",
      "   macro avg       0.90      0.78      0.83     51134\n",
      "weighted avg       0.97      0.97      0.97     51134\n",
      "\n",
      "\n",
      "Confusion Matrix:\n",
      "[[48082   325]\n",
      " [ 1197  1530]]\n"
     ]
    }
   ],
   "source": [
    "from sklearn.svm import SVC\n",
    "model_svc = SVC()\n",
    "\n",
    "# Fit the model\n",
    "model_svc.fit(X_train, y_train)\n",
    "\n",
    "#Score/Accuracy\n",
    "SVCScore = model_svc.score(X_test,y_test)*100\n",
    "print(f\"SVC model accuracy: {SVCScore}%\")\n",
    "\n",
    "# Model Evaluation\n",
    "y_pred = model_svc.predict(X_test)\n",
    "classification_report_result = classification_report(y_test, y_pred)\n",
    "confusion_matrix_result = confusion_matrix(y_test, y_pred)\n",
    "print(\"\\nClassification Report:\")\n",
    "print(classification_report_result)\n",
    "print(\"\\nConfusion Matrix:\")\n",
    "print(confusion_matrix_result)"
   ]
  },
  {
   "cell_type": "markdown",
   "metadata": {},
   "source": [
    "#### Comparing the performance of the models"
   ]
  },
  {
   "cell_type": "code",
   "execution_count": 42,
   "metadata": {},
   "outputs": [
    {
     "data": {
      "text/html": [
       "<div>\n",
       "<style scoped>\n",
       "    .dataframe tbody tr th:only-of-type {\n",
       "        vertical-align: middle;\n",
       "    }\n",
       "\n",
       "    .dataframe tbody tr th {\n",
       "        vertical-align: top;\n",
       "    }\n",
       "\n",
       "    .dataframe thead th {\n",
       "        text-align: right;\n",
       "    }\n",
       "</style>\n",
       "<table border=\"1\" class=\"dataframe\">\n",
       "  <thead>\n",
       "    <tr style=\"text-align: right;\">\n",
       "      <th></th>\n",
       "      <th>Model</th>\n",
       "      <th>Score</th>\n",
       "    </tr>\n",
       "  </thead>\n",
       "  <tbody>\n",
       "    <tr>\n",
       "      <th>4</th>\n",
       "      <td>SVC</td>\n",
       "      <td>97.023507</td>\n",
       "    </tr>\n",
       "    <tr>\n",
       "      <th>3</th>\n",
       "      <td>Gradient Boosting Classifier</td>\n",
       "      <td>96.992217</td>\n",
       "    </tr>\n",
       "    <tr>\n",
       "      <th>1</th>\n",
       "      <td>Decision Tree Classifier</td>\n",
       "      <td>96.988305</td>\n",
       "    </tr>\n",
       "    <tr>\n",
       "      <th>2</th>\n",
       "      <td>RandomForestClassifier</td>\n",
       "      <td>96.986350</td>\n",
       "    </tr>\n",
       "    <tr>\n",
       "      <th>0</th>\n",
       "      <td>LogisticRegression</td>\n",
       "      <td>95.870000</td>\n",
       "    </tr>\n",
       "  </tbody>\n",
       "</table>\n",
       "</div>"
      ],
      "text/plain": [
       "                          Model      Score\n",
       "4                           SVC  97.023507\n",
       "3  Gradient Boosting Classifier  96.992217\n",
       "1      Decision Tree Classifier  96.988305\n",
       "2        RandomForestClassifier  96.986350\n",
       "0            LogisticRegression  95.870000"
      ]
     },
     "execution_count": 42,
     "metadata": {},
     "output_type": "execute_result"
    }
   ],
   "source": [
    "models = pd.DataFrame({\n",
    "    'Model': [\"LogisticRegression\", \"Decision Tree Classifier\", \"RandomForestClassifier\", \n",
    "              \"Gradient Boosting Classifier\", \"SVC\"],\n",
    "    'Score': [acc_logreg, acc_decisiontree, RandomForestClassifierScore, \n",
    "              GradientBoostingClassifierScore, SVCScore]})\n",
    "models.sort_values(by='Score', ascending=False)"
   ]
  },
  {
   "cell_type": "code",
   "execution_count": 43,
   "metadata": {},
   "outputs": [
    {
     "data": {
      "image/png": "[encoded data removed]",
      "text/plain": [
       "<Figure size 800x600 with 1 Axes>"
      ]
     },
     "metadata": {},
     "output_type": "display_data"
    }
   ],
   "source": [
    "fig, ax = plt.subplots(figsize=(8,6))\n",
    "sns.barplot(x=models.Model,y=models.Score, palette=\"inferno\");\n",
    "plt.xlabel(\"Models\")\n",
    "plt.ylabel(\"Model Accuracy\")\n",
    "plt.xticks(rotation=90)\n",
    "plt.title(\"Model Comparison - Model Accuracy\");"
   ]
  },
  {
   "cell_type": "markdown",
   "metadata": {},
   "source": [
    "### Prediction"
   ]
  },
  {
   "cell_type": "code",
   "execution_count": 44,
   "metadata": {},
   "outputs": [
    {
     "name": "stdout",
     "output_type": "stream",
     "text": [
      "Covid +ve\n"
     ]
    }
   ],
   "source": [
    "Cough_symptoms=0\n",
    "Fever=0\n",
    "Sore_throat=1\n",
    "Shortness_of_breath=0\n",
    "Headache=0\n",
    "Sex=1\n",
    "Known_contact=0\n",
    "\n",
    "test = [Cough_symptoms, Fever, Sore_throat, Shortness_of_breath, Headache, Sex, Known_contact]\n",
    "\n",
    "model = model_lg\n",
    "pred = model.predict([test])\n",
    "# print(pred)\n",
    "if pred==1:\n",
    "    print('Covid +ve')\n",
    "else:\n",
    "    print('Covid -ve')"
   ]
  },
  {
   "cell_type": "markdown",
   "metadata": {},
   "source": [
    "### Comparing the 5 models 'SVC/SVM' seems to be having more accuracy."
   ]
  }
 ],
 "metadata": {
  "kernelspec": {
   "display_name": "Python 3",
   "language": "python",
   "name": "python3"
  },
  "language_info": {
   "codemirror_mode": {
    "name": "ipython",
    "version": 3
   },
   "file_extension": ".py",
   "mimetype": "text/x-python",
   "name": "python",
   "nbconvert_exporter": "python",
   "pygments_lexer": "ipython3",
   "version": "3.11.1"
  },
  "orig_nbformat": 4
 },
 "nbformat": 4,
 "nbformat_minor": 2
}
